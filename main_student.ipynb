{
 "cells": [
  {
   "cell_type": "markdown",
   "id": "261aef7b-9c3e-44bf-a280-fcaebcf65d00",
   "metadata": {},
   "source": [
    "## Import"
   ]
  },
  {
   "cell_type": "code",
   "execution_count": 1,
   "id": "1f24f1de-cf86-4508-8448-ff82c09c3b6b",
   "metadata": {},
   "outputs": [
    {
     "name": "stderr",
     "output_type": "stream",
     "text": [
      "c:\\Users\\SHRM_DL\\.conda\\envs\\jun\\lib\\site-packages\\numpy\\_distributor_init.py:30: UserWarning: loaded more than 1 DLL from .libs:\n",
      "c:\\Users\\SHRM_DL\\.conda\\envs\\jun\\lib\\site-packages\\numpy\\.libs\\libopenblas.EL2C6PLE4ZYW3ECEVIV3OXXGRN2NRFM2.gfortran-win_amd64.dll\n",
      "c:\\Users\\SHRM_DL\\.conda\\envs\\jun\\lib\\site-packages\\numpy\\.libs\\libopenblas.GK7GX5KEQ4F6UYO3P26ULGBQYHGQO7J4.gfortran-win_amd64.dll\n",
      "  warnings.warn(\"loaded more than 1 DLL from .libs:\"\n",
      "<frozen importlib._bootstrap>:228: RuntimeWarning: scipy._lib.messagestream.MessageStream size changed, may indicate binary incompatibility. Expected 56 from C header, got 64 from PyObject\n"
     ]
    }
   ],
   "source": [
    "# import sys\n",
    "# sys.path.append(r'C:\\Users\\hyeJunoh\\Desktop\\인턴폴더\\연구')\n",
    "\n",
    "import torch\n",
    "import torch.nn as nn\n",
    "import torch.nn.functional as F\n",
    "import torch.optim as optim\n",
    "from torch.autograd import Variable\n",
    "\n",
    "import torchvision\n",
    "import torchvision.transforms as transforms\n",
    "from torchvision import models, datasets\n",
    "\n",
    "from sklearn.metrics import f1_score, confusion_matrix\n",
    "from sklearn.preprocessing import StandardScaler, LabelEncoder, OneHotEncoder\n",
    "from sklearn.model_selection import train_test_split\n",
    "from sklearn.manifold import TSNE\n",
    "\n",
    "import os\n",
    "import pandas as pd\n",
    "import numpy as np\n",
    "from tqdm.auto import tqdm\n",
    "import random\n",
    "import h5py\n",
    "import glob\n",
    "from pathlib import Path\n",
    "import argparse\n",
    "import time\n",
    "\n",
    "\n",
    "import seaborn as sn\n",
    "import matplotlib.pyplot as plt\n",
    "%matplotlib inline\n",
    "\n",
    "import warnings\n",
    "warnings.filterwarnings(action='ignore')\n",
    "\n",
    "device = torch.device(\"cuda:0\" if torch.cuda.is_available() else \"cpu\")\n"
   ]
  },
  {
   "cell_type": "code",
   "execution_count": 2,
   "id": "b622b2f2",
   "metadata": {},
   "outputs": [],
   "source": [
    "from dataset.loader import dataloader\n",
    "from train_test.train_teacher import teacher_train\n",
    "from train_test.test_teacher import testing_teacher\n",
    "from model.teacher_model import teacher_encoder,  teacher_classifier\n",
    "from model.attention import SpatialAttention, CrossAttention\n",
    "from model.cnn import BasicBlock,GlobalAvgPool1D\n",
    "from model.student_model import student_encoder,student_classifier,Domain_classifier\n",
    "from train_test.train_student import student_train\n",
    "from train_test.valid_student import student_valid\n",
    "from utils.util import multi_acc"
   ]
  },
  {
   "cell_type": "code",
   "execution_count": 3,
   "id": "542d6fc4-197c-48cf-8ae7-a36ebd0fbba2",
   "metadata": {},
   "outputs": [],
   "source": [
    "CFG = {\n",
    "    'EPOCHS': 80,\n",
    "    'LEARNING_RATE':1e-2,\n",
    "    'BATCH_SIZE':256,\n",
    "    'SEED':41\n",
    "}\n",
    "\n",
    "def seed_everything(seed):\n",
    "    random.seed(seed)\n",
    "    os.environ['PYTHONHASHSEED'] = str(seed)\n",
    "    np.random.seed(seed)\n",
    "    torch.manual_seed(seed)\n",
    "    torch.cuda.manual_seed(seed)\n",
    "    torch.backends.cudnn.deterministic = True\n",
    "    torch.backends.cudnn.benchmark = True\n",
    "\n",
    "seed_everything(CFG['SEED'])"
   ]
  },
  {
   "cell_type": "markdown",
   "id": "78f7de4c-1758-4d8a-8c9c-b2e42f9b88a9",
   "metadata": {},
   "source": [
    "## Data Load"
   ]
  },
  {
   "cell_type": "code",
   "execution_count": 4,
   "id": "489ad739-e504-4cff-a296-06b08b1426ca",
   "metadata": {},
   "outputs": [],
   "source": [
    "source1_train_dataloader,source1_valid_dataloader,source1_test_dataloader,source2_train_dataloader,source2_valid_dataloader,source2_test_dataloader,target_train_dataloader,target_valid_dataloader,target_test_dataloaders=dataloader()"
   ]
  },
  {
   "cell_type": "markdown",
   "id": "a397ee58",
   "metadata": {},
   "source": [
    "# Teacher model"
   ]
  },
  {
   "cell_type": "code",
   "execution_count": 5,
   "id": "ef8c0b77-a430-442a-8721-d00885ee1096",
   "metadata": {},
   "outputs": [
    {
     "data": {
      "text/plain": [
       "<All keys matched successfully>"
      ]
     },
     "execution_count": 5,
     "metadata": {},
     "output_type": "execute_result"
    }
   ],
   "source": [
    "def teacher_enc(pretrained=False, **kwargs):\n",
    "    model = teacher_encoder(BasicBlock, [2, 2, 2, 2], **kwargs)\n",
    "    return model## Run (Teacher Model)\n",
    "def teacher_clas(pretrained=False, **kwargs):\n",
    "    model = teacher_classifier(BasicBlock, [2, 2, 2, 2], **kwargs)\n",
    "    return model## Run (Teacher Model)\n",
    "best_teacher_encoder = teacher_enc().to(device)\n",
    "best_teacher_classifier = teacher_clas().to(device)\n",
    "best_spectral_attention_cur = SpatialAttention(in_channels=32, reduction_ratio=16, version='cur').to(device)\n",
    "best_spectral_attention_vib = SpatialAttention(in_channels=32, reduction_ratio=16, version='vib').to(device)\n",
    "best_multiview_CrossAttention = CrossAttention(input_size=4096, version='default').to(device)\n",
    "best_temporal_attention_cur = SpatialAttention(in_channels=32, reduction_ratio=16, version='cur_2').to(device)\n",
    "best_temporal_attention_vib = SpatialAttention(in_channels=32, reduction_ratio=16, version='vib_2').to(device)\n",
    "\n",
    "\n",
    "best_teacher_encoder.load_state_dict(torch.load(\"../../weights/best_teacher_encoder.pth\",map_location=device))\n",
    "best_temporal_attention_cur.load_state_dict(torch.load(\"../../weights/best_temporal_attention_cur.pth\",map_location=device))\n",
    "best_temporal_attention_vib.load_state_dict(torch.load(\"../../weights/best_temporal_attention_vib.pth\",map_location=device))\n",
    "best_spectral_attention_cur.load_state_dict(torch.load(\"../../weights/best_spectral_attention_cur.pth\",map_location=device))\n",
    "best_spectral_attention_vib.load_state_dict(torch.load(\"../../weights/best_spectral_attention_vib.pth\",map_location=device))\n",
    "best_multiview_CrossAttention.load_state_dict(torch.load(\"../../weights/best_multiview_CrossAttention.pth\",map_location=device))\n",
    "best_teacher_classifier.load_state_dict(torch.load(\"../../weights/best_teacher_classifier.pth\",map_location=device))\n"
   ]
  },
  {
   "cell_type": "markdown",
   "id": "bc98e8ed",
   "metadata": {},
   "source": [
    "# Student model"
   ]
  },
  {
   "cell_type": "code",
   "execution_count": 6,
   "id": "d7d4fdd3",
   "metadata": {},
   "outputs": [],
   "source": [
    "def student_enc(pretrained=False, **kwargs):\n",
    "    model = student_encoder(BasicBlock, [2, 2, 2, 2], **kwargs)\n",
    "    return model## Run (Teacher Model)\n",
    "def student_clas(pretrained=False, **kwargs):\n",
    "    model = student_classifier(BasicBlock, [2, 2, 2, 2], **kwargs)\n",
    "    return model\n",
    "\n",
    "student_encoder = student_enc().to(device)\n",
    "student_classifier = student_clas().to(device)\n",
    "\n",
    "student_discriminator1=Domain_classifier().to(device)\n",
    "student_discriminator2=Domain_classifier().to(device)"
   ]
  },
  {
   "cell_type": "code",
   "execution_count": 7,
   "id": "59e70e9c-3e97-4e1d-9a8d-8517778b1589",
   "metadata": {},
   "outputs": [],
   "source": [
    "\n",
    "st_optimizer = torch.optim.Adam([\n",
    "                        {'params': student_encoder.parameters()},\n",
    "                        {'params': student_classifier.parameters()},\n",
    "                        {'params': student_discriminator1.parameters()},\n",
    "                        {'params': student_discriminator2.parameters()},\n",
    "                        ], lr= 0.0001)\n",
    "\n",
    "st_scheduler = torch.optim.lr_scheduler.ReduceLROnPlateau(st_optimizer, mode='max', factor=0.5, patience=15, threshold_mode='abs',min_lr=1e-8, verbose=True)"
   ]
  },
  {
   "cell_type": "code",
   "execution_count": 8,
   "id": "c3383bae",
   "metadata": {},
   "outputs": [
    {
     "name": "stdout",
     "output_type": "stream",
     "text": [
      "------------------------------\n",
      "Epoch: 0\n",
      "-----------Train--------------\n",
      "class loss:  tensor(0.5708, device='cuda:0', grad_fn=<AddBackward0>) kd loss:  tensor(0.0704, device='cuda:0', grad_fn=<AddBackward0>) domain loss:  tensor(0.7682, device='cuda:0', grad_fn=<AddBackward0>) target loss:  tensor(0.7641, device='cuda:0', grad_fn=<AddBackward0>)\n",
      "total_loss:  tensor(2.1735, device='cuda:0', grad_fn=<AddBackward0>)\n",
      "-----------valid--------------\n"
     ]
    },
    {
     "name": "stderr",
     "output_type": "stream",
     "text": [
      "100%|██████████| 1394/1394 [00:08<00:00, 167.59it/s]\n",
      "100%|██████████| 1394/1394 [00:07<00:00, 180.02it/s]\n",
      "100%|██████████| 697/697 [00:03<00:00, 176.58it/s]\n"
     ]
    },
    {
     "name": "stdout",
     "output_type": "stream",
     "text": [
      "source1 loss: 0.58 source1 accuracy:  90.74605451936873\n",
      "source2 loss: 0.542 source2 accuracy:  98.92395982783357\n",
      "target loss: 1.017 target accuracy:  78.04878048780488\n",
      "cmd value:  999999999999 weight1:  0.5 weight2:  0.5\n",
      "------------------------------\n",
      "Epoch: 1\n",
      "-----------Train--------------\n",
      "class loss:  tensor(0.5311, device='cuda:0', grad_fn=<AddBackward0>) kd loss:  tensor(0.0699, device='cuda:0', grad_fn=<AddBackward0>) domain loss:  tensor(0.8433, device='cuda:0', grad_fn=<AddBackward0>) target loss:  tensor(0.8729, device='cuda:0', grad_fn=<AddBackward0>)\n",
      "total_loss:  tensor(2.3172, device='cuda:0', grad_fn=<AddBackward0>)\n",
      "-----------valid--------------\n"
     ]
    },
    {
     "name": "stderr",
     "output_type": "stream",
     "text": [
      "100%|██████████| 1394/1394 [00:07<00:00, 179.98it/s]\n",
      "100%|██████████| 1394/1394 [00:07<00:00, 178.79it/s]\n",
      "100%|██████████| 697/697 [00:03<00:00, 176.10it/s]\n"
     ]
    },
    {
     "name": "stdout",
     "output_type": "stream",
     "text": [
      "source1 loss: 0.501 source1 accuracy:  96.05451936872309\n",
      "source2 loss: 0.455 source2 accuracy:  100.0\n",
      "target loss: 0.981 target accuracy:  77.18794835007174\n",
      "cmd value:  999999999999 weight1:  0.5 weight2:  0.5\n",
      "------------------------------\n",
      "Epoch: 2\n",
      "-----------Train--------------\n",
      "class loss:  tensor(0.4693, device='cuda:0', grad_fn=<AddBackward0>) kd loss:  tensor(0.0691, device='cuda:0', grad_fn=<AddBackward0>) domain loss:  tensor(0.8917, device='cuda:0', grad_fn=<AddBackward0>) target loss:  tensor(0.9011, device='cuda:0', grad_fn=<AddBackward0>)\n",
      "total_loss:  tensor(2.3312, device='cuda:0', grad_fn=<AddBackward0>)\n",
      "-----------valid--------------\n"
     ]
    },
    {
     "name": "stderr",
     "output_type": "stream",
     "text": [
      "100%|██████████| 1394/1394 [00:07<00:00, 177.76it/s]\n",
      "100%|██████████| 1394/1394 [00:07<00:00, 177.24it/s]\n",
      "100%|██████████| 697/697 [00:03<00:00, 176.22it/s]\n"
     ]
    },
    {
     "name": "stdout",
     "output_type": "stream",
     "text": [
      "source1 loss: 0.471 source1 accuracy:  99.78479196556671\n",
      "source2 loss: 0.55 source2 accuracy:  98.92395982783357\n",
      "target loss: 0.983 target accuracy:  79.62697274031564\n",
      "cmd value:  999999999999 weight1:  0.5 weight2:  0.5\n",
      "------------------------------\n",
      "Epoch: 3\n",
      "-----------Train--------------\n",
      "class loss:  tensor(0.4996, device='cuda:0', grad_fn=<AddBackward0>) kd loss:  tensor(0.0683, device='cuda:0', grad_fn=<AddBackward0>) domain loss:  tensor(0.8995, device='cuda:0', grad_fn=<AddBackward0>) target loss:  tensor(0.9155, device='cuda:0', grad_fn=<AddBackward0>)\n",
      "total_loss:  tensor(2.3829, device='cuda:0', grad_fn=<AddBackward0>)\n",
      "-----------valid--------------\n"
     ]
    },
    {
     "name": "stderr",
     "output_type": "stream",
     "text": [
      "100%|██████████| 1394/1394 [00:07<00:00, 175.32it/s]\n",
      "100%|██████████| 1394/1394 [00:07<00:00, 176.30it/s]\n",
      "100%|██████████| 697/697 [00:03<00:00, 174.86it/s]\n"
     ]
    },
    {
     "name": "stdout",
     "output_type": "stream",
     "text": [
      "source1 loss: 0.443 source1 accuracy:  100.0\n",
      "source2 loss: 0.497 source2 accuracy:  99.78479196556671\n",
      "target loss: 0.999 target accuracy:  78.1922525107604\n",
      "cmd value:  999999999999 weight1:  0.5 weight2:  0.5\n",
      "------------------------------\n",
      "Epoch: 4\n",
      "-----------Train--------------\n",
      "class loss:  tensor(0.4752, device='cuda:0', grad_fn=<AddBackward0>) kd loss:  tensor(0.0675, device='cuda:0', grad_fn=<AddBackward0>) domain loss:  tensor(0.8825, device='cuda:0', grad_fn=<AddBackward0>) target loss:  tensor(0.8937, device='cuda:0', grad_fn=<AddBackward0>)\n",
      "total_loss:  tensor(2.3189, device='cuda:0', grad_fn=<AddBackward0>)\n",
      "-----------valid--------------\n"
     ]
    },
    {
     "name": "stderr",
     "output_type": "stream",
     "text": [
      "100%|██████████| 1394/1394 [00:07<00:00, 177.29it/s]\n",
      "100%|██████████| 1394/1394 [00:07<00:00, 175.79it/s]\n",
      "100%|██████████| 697/697 [00:03<00:00, 176.60it/s]\n"
     ]
    },
    {
     "name": "stdout",
     "output_type": "stream",
     "text": [
      "source1 loss: 0.434 source1 accuracy:  100.0\n",
      "source2 loss: 0.506 source2 accuracy:  92.53945480631278\n",
      "target loss: 1.158 target accuracy:  63.27116212338594\n",
      "cmd value:  999999999999 weight1:  0.5 weight2:  0.5\n",
      "------------------------------\n",
      "Epoch: 5\n",
      "-----------Train--------------\n",
      "class loss:  tensor(0.4527, device='cuda:0', grad_fn=<AddBackward0>) kd loss:  tensor(0.0682, device='cuda:0', grad_fn=<AddBackward0>) domain loss:  tensor(0.9010, device='cuda:0', grad_fn=<AddBackward0>) target loss:  tensor(0.8764, device='cuda:0', grad_fn=<AddBackward0>)\n",
      "total_loss:  tensor(2.2982, device='cuda:0', grad_fn=<AddBackward0>)\n",
      "-----------valid--------------\n"
     ]
    },
    {
     "name": "stderr",
     "output_type": "stream",
     "text": [
      "100%|██████████| 1394/1394 [00:07<00:00, 176.96it/s]\n",
      "100%|██████████| 1394/1394 [00:07<00:00, 176.92it/s]\n",
      "100%|██████████| 697/697 [00:03<00:00, 177.86it/s]\n"
     ]
    },
    {
     "name": "stdout",
     "output_type": "stream",
     "text": [
      "source1 loss: 0.449 source1 accuracy:  100.0\n",
      "source2 loss: 0.46 source2 accuracy:  99.92826398852223\n",
      "target loss: 1.103 target accuracy:  66.71449067431851\n",
      "cmd value:  999999999999 weight1:  0.5 weight2:  0.5\n",
      "------------------------------\n",
      "Epoch: 6\n",
      "-----------Train--------------\n",
      "class loss:  tensor(0.4643, device='cuda:0', grad_fn=<AddBackward0>) kd loss:  tensor(0.0672, device='cuda:0', grad_fn=<AddBackward0>) domain loss:  tensor(0.8802, device='cuda:0', grad_fn=<AddBackward0>) target loss:  tensor(0.9035, device='cuda:0', grad_fn=<AddBackward0>)\n",
      "total_loss:  tensor(2.3152, device='cuda:0', grad_fn=<AddBackward0>)\n",
      "-----------valid--------------\n"
     ]
    },
    {
     "name": "stderr",
     "output_type": "stream",
     "text": [
      "100%|██████████| 1394/1394 [00:07<00:00, 177.31it/s]\n",
      "100%|██████████| 1394/1394 [00:07<00:00, 177.18it/s]\n",
      "100%|██████████| 697/697 [00:03<00:00, 177.32it/s]\n"
     ]
    },
    {
     "name": "stdout",
     "output_type": "stream",
     "text": [
      "source1 loss: 0.338 source1 accuracy:  100.0\n",
      "source2 loss: 0.425 source2 accuracy:  99.78479196556671\n",
      "target loss: 1.006 target accuracy:  77.61836441893831\n",
      "cmd value:  999999999999 weight1:  0.5 weight2:  0.5\n",
      "------------------------------\n",
      "Epoch: 7\n",
      "-----------Train--------------\n",
      "class loss:  tensor(0.4573, device='cuda:0', grad_fn=<AddBackward0>) kd loss:  tensor(0.0671, device='cuda:0', grad_fn=<AddBackward0>) domain loss:  tensor(0.8755, device='cuda:0', grad_fn=<AddBackward0>) target loss:  tensor(0.8903, device='cuda:0', grad_fn=<AddBackward0>)\n",
      "total_loss:  tensor(2.2901, device='cuda:0', grad_fn=<AddBackward0>)\n",
      "-----------valid--------------\n"
     ]
    },
    {
     "name": "stderr",
     "output_type": "stream",
     "text": [
      "100%|██████████| 1394/1394 [00:07<00:00, 175.91it/s]\n",
      "100%|██████████| 1394/1394 [00:07<00:00, 177.15it/s]\n",
      "100%|██████████| 697/697 [00:03<00:00, 178.12it/s]\n"
     ]
    },
    {
     "name": "stdout",
     "output_type": "stream",
     "text": [
      "source1 loss: 0.355 source1 accuracy:  100.0\n",
      "source2 loss: 0.42 source2 accuracy:  100.0\n",
      "target loss: 1.019 target accuracy:  77.61836441893831\n",
      "cmd value:  999999999999 weight1:  0.5 weight2:  0.5\n",
      "------------------------------\n",
      "Epoch: 8\n",
      "-----------Train--------------\n",
      "class loss:  tensor(0.4391, device='cuda:0', grad_fn=<AddBackward0>) kd loss:  tensor(0.0658, device='cuda:0', grad_fn=<AddBackward0>) domain loss:  tensor(0.8800, device='cuda:0', grad_fn=<AddBackward0>) target loss:  tensor(0.8847, device='cuda:0', grad_fn=<AddBackward0>)\n",
      "total_loss:  tensor(2.2697, device='cuda:0', grad_fn=<AddBackward0>)\n",
      "-----------valid--------------\n"
     ]
    },
    {
     "name": "stderr",
     "output_type": "stream",
     "text": [
      "100%|██████████| 1394/1394 [00:07<00:00, 178.04it/s]\n",
      "100%|██████████| 1394/1394 [00:07<00:00, 178.57it/s]\n",
      "100%|██████████| 697/697 [00:03<00:00, 179.37it/s]\n"
     ]
    },
    {
     "name": "stdout",
     "output_type": "stream",
     "text": [
      "source1 loss: 0.358 source1 accuracy:  100.0\n",
      "source2 loss: 0.55 source2 accuracy:  89.52654232424678\n",
      "target loss: 1.106 target accuracy:  67.43185078909613\n",
      "cmd value:  999999999999 weight1:  0.5 weight2:  0.5\n",
      "------------------------------\n",
      "Epoch: 9\n",
      "-----------Train--------------\n",
      "class loss:  tensor(0.4104, device='cuda:0', grad_fn=<AddBackward0>) kd loss:  tensor(0.0647, device='cuda:0', grad_fn=<AddBackward0>) domain loss:  tensor(0.8511, device='cuda:0', grad_fn=<AddBackward0>) target loss:  tensor(0.8796, device='cuda:0', grad_fn=<AddBackward0>)\n",
      "total_loss:  tensor(2.2058, device='cuda:0', grad_fn=<AddBackward0>)\n",
      "-----------valid--------------\n"
     ]
    },
    {
     "name": "stderr",
     "output_type": "stream",
     "text": [
      "100%|██████████| 1394/1394 [00:07<00:00, 177.52it/s]\n",
      "100%|██████████| 1394/1394 [00:07<00:00, 177.30it/s]\n",
      "100%|██████████| 697/697 [00:03<00:00, 178.60it/s]\n"
     ]
    },
    {
     "name": "stdout",
     "output_type": "stream",
     "text": [
      "source1 loss: 0.342 source1 accuracy:  100.0\n",
      "source2 loss: 0.419 source2 accuracy:  99.35437589670015\n",
      "target loss: 1.07 target accuracy:  71.87948350071736\n",
      "cmd value:  999999999999 weight1:  0.5 weight2:  0.5\n",
      "------------------------------\n",
      "Epoch: 10\n",
      "-----------Train--------------\n",
      "class loss:  tensor(0.4233, device='cuda:0', grad_fn=<AddBackward0>) kd loss:  tensor(0.0640, device='cuda:0', grad_fn=<AddBackward0>) domain loss:  tensor(0.8412, device='cuda:0', grad_fn=<AddBackward0>) target loss:  tensor(0.8788, device='cuda:0', grad_fn=<AddBackward0>)\n",
      "total_loss:  tensor(2.2073, device='cuda:0', grad_fn=<AddBackward0>)\n",
      "-----------valid--------------\n"
     ]
    },
    {
     "name": "stderr",
     "output_type": "stream",
     "text": [
      "100%|██████████| 1394/1394 [00:07<00:00, 174.28it/s]\n",
      "100%|██████████| 1394/1394 [00:07<00:00, 174.35it/s]\n",
      "100%|██████████| 697/697 [00:04<00:00, 173.35it/s]\n"
     ]
    },
    {
     "name": "stdout",
     "output_type": "stream",
     "text": [
      "source1 loss: 0.34 source1 accuracy:  100.0\n",
      "source2 loss: 0.531 source2 accuracy:  96.48493543758967\n",
      "target loss: 0.911 target accuracy:  65.85365853658537\n",
      "cmd value:  tensor(4834.9561, device='cuda:0', grad_fn=<AddBackward0>) weight1:  tensor(0.5620, device='cuda:0', grad_fn=<DivBackward0>) weight2:  tensor(0.4380, device='cuda:0', grad_fn=<DivBackward0>)\n",
      "------------------------------\n",
      "Epoch: 11\n",
      "-----------Train--------------\n",
      "cmd1:  tensor(3080.2510, device='cuda:0', grad_fn=<AddBackward0>)\n",
      "cmd2:  tensor(5439.6167, device='cuda:0', grad_fn=<AddBackward0>)\n",
      "weight1 and 2:  tensor(0.6385, device='cuda:0', grad_fn=<DivBackward0>) tensor(0.3615, device='cuda:0', grad_fn=<DivBackward0>)\n",
      "class loss:  tensor(0.3966, device='cuda:0', grad_fn=<AddBackward0>) kd loss:  tensor(0.0635, device='cuda:0', grad_fn=<AddBackward0>) domain loss:  tensor(0.8342, device='cuda:0', grad_fn=<AddBackward0>) target loss:  tensor(0.8578, device='cuda:0', grad_fn=<AddBackward0>)\n",
      "total_loss:  tensor(2.1521, device='cuda:0', grad_fn=<AddBackward0>)\n",
      "-----------valid--------------\n"
     ]
    },
    {
     "name": "stderr",
     "output_type": "stream",
     "text": [
      "100%|██████████| 1394/1394 [00:08<00:00, 167.68it/s]\n",
      "100%|██████████| 1394/1394 [00:08<00:00, 167.05it/s]\n",
      "100%|██████████| 697/697 [00:04<00:00, 167.60it/s]\n"
     ]
    },
    {
     "name": "stdout",
     "output_type": "stream",
     "text": [
      "source1 loss: 0.315 source1 accuracy:  100.0\n",
      "source2 loss: 0.521 source2 accuracy:  97.48923959827833\n",
      "target loss: 0.848 target accuracy:  86.51362984218078\n",
      "cmd value:  tensor(4118.1138, device='cuda:0', grad_fn=<AddBackward0>) weight1:  tensor(0.6385, device='cuda:0', grad_fn=<DivBackward0>) weight2:  tensor(0.3615, device='cuda:0', grad_fn=<DivBackward0>)\n",
      "------------------------------\n",
      "Epoch: 12\n",
      "-----------Train--------------\n",
      "cmd1:  tensor(2651.9771, device='cuda:0', grad_fn=<AddBackward0>)\n",
      "cmd2:  tensor(4074.3220, device='cuda:0', grad_fn=<AddBackward0>)\n",
      "weight1 and 2:  tensor(0.6057, device='cuda:0', grad_fn=<DivBackward0>) tensor(0.3943, device='cuda:0', grad_fn=<DivBackward0>)\n",
      "class loss:  tensor(0.4430, device='cuda:0', grad_fn=<AddBackward0>) kd loss:  tensor(0.0639, device='cuda:0', grad_fn=<AddBackward0>) domain loss:  tensor(0.8558, device='cuda:0', grad_fn=<AddBackward0>) target loss:  tensor(0.8728, device='cuda:0', grad_fn=<AddBackward0>)\n",
      "total_loss:  tensor(2.2355, device='cuda:0', grad_fn=<AddBackward0>)\n",
      "-----------valid--------------\n"
     ]
    },
    {
     "name": "stderr",
     "output_type": "stream",
     "text": [
      "100%|██████████| 1394/1394 [00:08<00:00, 168.62it/s]\n",
      "100%|██████████| 1394/1394 [00:08<00:00, 166.95it/s]\n",
      "100%|██████████| 697/697 [00:04<00:00, 167.43it/s]\n"
     ]
    },
    {
     "name": "stdout",
     "output_type": "stream",
     "text": [
      "source1 loss: 0.347 source1 accuracy:  99.78479196556671\n",
      "source2 loss: 0.45 source2 accuracy:  100.0\n",
      "target loss: 1.038 target accuracy:  72.02295552367288\n",
      "cmd value:  tensor(4160.1040, device='cuda:0', grad_fn=<AddBackward0>) weight1:  tensor(0.6057, device='cuda:0', grad_fn=<DivBackward0>) weight2:  tensor(0.3943, device='cuda:0', grad_fn=<DivBackward0>)\n",
      "------------------------------\n",
      "Epoch: 13\n",
      "-----------Train--------------\n",
      "cmd1:  tensor(2152.3643, device='cuda:0', grad_fn=<AddBackward0>)\n",
      "cmd2:  tensor(3195.9084, device='cuda:0', grad_fn=<AddBackward0>)\n",
      "weight1 and 2:  tensor(0.5976, device='cuda:0', grad_fn=<DivBackward0>) tensor(0.4024, device='cuda:0', grad_fn=<DivBackward0>)\n",
      "class loss:  tensor(0.3800, device='cuda:0', grad_fn=<AddBackward0>) kd loss:  tensor(0.0625, device='cuda:0', grad_fn=<AddBackward0>) domain loss:  tensor(0.8560, device='cuda:0', grad_fn=<AddBackward0>) target loss:  tensor(0.8439, device='cuda:0', grad_fn=<AddBackward0>)\n",
      "total_loss:  tensor(2.1424, device='cuda:0', grad_fn=<AddBackward0>)\n",
      "-----------valid--------------\n"
     ]
    },
    {
     "name": "stderr",
     "output_type": "stream",
     "text": [
      "100%|██████████| 1394/1394 [00:08<00:00, 165.33it/s]\n",
      "100%|██████████| 1394/1394 [00:08<00:00, 168.40it/s]\n",
      "100%|██████████| 697/697 [00:04<00:00, 168.27it/s]\n"
     ]
    },
    {
     "name": "stdout",
     "output_type": "stream",
     "text": [
      "source1 loss: 0.335 source1 accuracy:  100.0\n",
      "source2 loss: 0.563 source2 accuracy:  96.34146341463415\n",
      "target loss: 1.016 target accuracy:  65.13629842180775\n",
      "cmd value:  tensor(4310.5156, device='cuda:0', grad_fn=<AddBackward0>) weight1:  tensor(0.5976, device='cuda:0', grad_fn=<DivBackward0>) weight2:  tensor(0.4024, device='cuda:0', grad_fn=<DivBackward0>)\n",
      "------------------------------\n",
      "Epoch: 14\n",
      "-----------Train--------------\n",
      "cmd1:  tensor(2803.8406, device='cuda:0', grad_fn=<AddBackward0>)\n",
      "cmd2:  tensor(2915.7483, device='cuda:0', grad_fn=<AddBackward0>)\n",
      "weight1 and 2:  tensor(0.5098, device='cuda:0', grad_fn=<DivBackward0>) tensor(0.4902, device='cuda:0', grad_fn=<DivBackward0>)\n",
      "class loss:  tensor(0.3906, device='cuda:0', grad_fn=<AddBackward0>) kd loss:  tensor(0.0632, device='cuda:0', grad_fn=<AddBackward0>) domain loss:  tensor(0.8518, device='cuda:0', grad_fn=<AddBackward0>) target loss:  tensor(0.8278, device='cuda:0', grad_fn=<AddBackward0>)\n",
      "total_loss:  tensor(2.1334, device='cuda:0', grad_fn=<AddBackward0>)\n",
      "-----------valid--------------\n"
     ]
    },
    {
     "name": "stderr",
     "output_type": "stream",
     "text": [
      "100%|██████████| 1394/1394 [00:08<00:00, 169.32it/s]\n",
      "100%|██████████| 1394/1394 [00:08<00:00, 173.23it/s]\n",
      "100%|██████████| 697/697 [00:04<00:00, 172.31it/s]\n"
     ]
    },
    {
     "name": "stdout",
     "output_type": "stream",
     "text": [
      "source1 loss: 0.368 source1 accuracy:  99.78479196556671\n",
      "source2 loss: 0.399 source2 accuracy:  97.77618364418939\n",
      "target loss: 0.908 target accuracy:  80.48780487804878\n",
      "cmd value:  tensor(3685.6040, device='cuda:0', grad_fn=<AddBackward0>) weight1:  tensor(0.5098, device='cuda:0', grad_fn=<DivBackward0>) weight2:  tensor(0.4902, device='cuda:0', grad_fn=<DivBackward0>)\n",
      "------------------------------\n",
      "Epoch: 15\n",
      "-----------Train--------------\n",
      "cmd1:  tensor(3479.1736, device='cuda:0', grad_fn=<AddBackward0>)\n",
      "cmd2:  tensor(4813.6577, device='cuda:0', grad_fn=<AddBackward0>)\n",
      "weight1 and 2:  tensor(0.5805, device='cuda:0', grad_fn=<DivBackward0>) tensor(0.4195, device='cuda:0', grad_fn=<DivBackward0>)\n",
      "class loss:  tensor(0.3802, device='cuda:0', grad_fn=<AddBackward0>) kd loss:  tensor(0.0621, device='cuda:0', grad_fn=<AddBackward0>) domain loss:  tensor(0.8325, device='cuda:0', grad_fn=<AddBackward0>) target loss:  tensor(0.8001, device='cuda:0', grad_fn=<AddBackward0>)\n",
      "total_loss:  tensor(2.0748, device='cuda:0', grad_fn=<AddBackward0>)\n",
      "-----------valid--------------\n"
     ]
    },
    {
     "name": "stderr",
     "output_type": "stream",
     "text": [
      "100%|██████████| 1394/1394 [00:08<00:00, 166.61it/s]\n",
      "100%|██████████| 1394/1394 [00:08<00:00, 166.98it/s]\n",
      "100%|██████████| 697/697 [00:04<00:00, 169.02it/s]\n"
     ]
    },
    {
     "name": "stdout",
     "output_type": "stream",
     "text": [
      "source1 loss: 0.27 source1 accuracy:  100.0\n",
      "source2 loss: 0.527 source2 accuracy:  93.974175035868\n",
      "target loss: 0.832 target accuracy:  87.66140602582496\n",
      "cmd value:  tensor(3852.5454, device='cuda:0', grad_fn=<AddBackward0>) weight1:  tensor(0.5805, device='cuda:0', grad_fn=<DivBackward0>) weight2:  tensor(0.4195, device='cuda:0', grad_fn=<DivBackward0>)\n",
      "------------------------------\n",
      "Epoch: 16\n",
      "-----------Train--------------\n",
      "cmd1:  tensor(2821.7112, device='cuda:0', grad_fn=<AddBackward0>)\n",
      "cmd2:  tensor(2354.4365, device='cuda:0', grad_fn=<AddBackward0>)\n",
      "weight1 and 2:  tensor(0.4549, device='cuda:0', grad_fn=<DivBackward0>) tensor(0.5451, device='cuda:0', grad_fn=<DivBackward0>)\n",
      "class loss:  tensor(0.3908, device='cuda:0', grad_fn=<AddBackward0>) kd loss:  tensor(0.0612, device='cuda:0', grad_fn=<AddBackward0>) domain loss:  tensor(0.7552, device='cuda:0', grad_fn=<AddBackward0>) target loss:  tensor(0.7803, device='cuda:0', grad_fn=<AddBackward0>)\n",
      "total_loss:  tensor(1.9875, device='cuda:0', grad_fn=<AddBackward0>)\n",
      "-----------valid--------------\n"
     ]
    },
    {
     "name": "stderr",
     "output_type": "stream",
     "text": [
      "100%|██████████| 1394/1394 [00:08<00:00, 156.17it/s]\n",
      "100%|██████████| 1394/1394 [00:08<00:00, 157.24it/s]\n",
      "100%|██████████| 697/697 [00:04<00:00, 157.26it/s]\n"
     ]
    },
    {
     "name": "stdout",
     "output_type": "stream",
     "text": [
      "source1 loss: 0.388 source1 accuracy:  100.0\n",
      "source2 loss: 0.478 source2 accuracy:  100.0\n",
      "target loss: 0.903 target accuracy:  88.95265423242468\n",
      "cmd value:  tensor(3847.2397, device='cuda:0', grad_fn=<AddBackward0>) weight1:  tensor(0.4549, device='cuda:0', grad_fn=<DivBackward0>) weight2:  tensor(0.5451, device='cuda:0', grad_fn=<DivBackward0>)\n",
      "------------------------------\n",
      "Epoch: 17\n",
      "-----------Train--------------\n",
      "cmd1:  tensor(5542.4331, device='cuda:0', grad_fn=<AddBackward0>)\n",
      "cmd2:  tensor(5349.5825, device='cuda:0', grad_fn=<AddBackward0>)\n",
      "weight1 and 2:  tensor(0.4911, device='cuda:0', grad_fn=<DivBackward0>) tensor(0.5089, device='cuda:0', grad_fn=<DivBackward0>)\n",
      "class loss:  tensor(0.4140, device='cuda:0', grad_fn=<AddBackward0>) kd loss:  tensor(0.0604, device='cuda:0', grad_fn=<AddBackward0>) domain loss:  tensor(0.7634, device='cuda:0', grad_fn=<AddBackward0>) target loss:  tensor(0.7438, device='cuda:0', grad_fn=<AddBackward0>)\n",
      "total_loss:  tensor(1.9816, device='cuda:0', grad_fn=<AddBackward0>)\n",
      "-----------valid--------------\n"
     ]
    },
    {
     "name": "stderr",
     "output_type": "stream",
     "text": [
      "100%|██████████| 1394/1394 [00:08<00:00, 158.11it/s]\n",
      "100%|██████████| 1394/1394 [00:08<00:00, 159.30it/s]\n",
      "100%|██████████| 697/697 [00:04<00:00, 157.61it/s]\n"
     ]
    },
    {
     "name": "stdout",
     "output_type": "stream",
     "text": [
      "source1 loss: 0.269 source1 accuracy:  100.0\n",
      "source2 loss: 0.518 source2 accuracy:  98.92395982783357\n",
      "target loss: 0.919 target accuracy:  87.8048780487805\n",
      "cmd value:  tensor(3381.1802, device='cuda:0', grad_fn=<AddBackward0>) weight1:  tensor(0.4911, device='cuda:0', grad_fn=<DivBackward0>) weight2:  tensor(0.5089, device='cuda:0', grad_fn=<DivBackward0>)\n",
      "------------------------------\n",
      "Epoch: 18\n",
      "-----------Train--------------\n",
      "cmd1:  tensor(13073.9199, device='cuda:0', grad_fn=<AddBackward0>)\n",
      "cmd2:  tensor(1763.2544, device='cuda:0', grad_fn=<AddBackward0>)\n",
      "weight1 and 2:  tensor(0.1188, device='cuda:0', grad_fn=<DivBackward0>) tensor(0.8812, device='cuda:0', grad_fn=<DivBackward0>)\n",
      "class loss:  tensor(0.4050, device='cuda:0', grad_fn=<AddBackward0>) kd loss:  tensor(0.0613, device='cuda:0', grad_fn=<AddBackward0>) domain loss:  tensor(0.7274, device='cuda:0', grad_fn=<AddBackward0>) target loss:  tensor(0.6847, device='cuda:0', grad_fn=<AddBackward0>)\n",
      "total_loss:  tensor(1.8784, device='cuda:0', grad_fn=<AddBackward0>)\n",
      "-----------valid--------------\n"
     ]
    },
    {
     "name": "stderr",
     "output_type": "stream",
     "text": [
      "100%|██████████| 1394/1394 [00:08<00:00, 165.29it/s]\n",
      "100%|██████████| 1394/1394 [00:08<00:00, 164.45it/s]\n",
      " 57%|█████▋    | 394/697 [00:02<00:01, 163.55it/s]"
     ]
    }
   ],
   "source": [
    "min_val_score=99999999999\n",
    "loss1_list,acc1_list=[],[]\n",
    "loss2_list,acc2_list=[],[]\n",
    "loss3_list,acc3_list=[],[]\n",
    "weights1=[]\n",
    "weights2=[]\n",
    "cmdvals=[]\n",
    "\n",
    "for epoch in range(200):\n",
    "    print(\"------------------------------\")\n",
    "    print('Epoch: {}'.format(epoch))\n",
    "    print(\"-----------Train--------------\")\n",
    "    best_student_encoder,best_student_classifier,best_student_discriminator1,best_student_discriminator2,cmdval,weight1,weight2=student_train(best_teacher_encoder,best_temporal_attention_cur,best_temporal_attention_vib,best_spectral_attention_cur,best_spectral_attention_vib,best_multiview_CrossAttention,best_teacher_classifier,student_encoder,student_classifier, student_discriminator1,student_discriminator2, st_optimizer, source1_train_dataloader,source2_train_dataloader,target_train_dataloader,epoch)\n",
    "    print(\"-----------valid--------------\")\n",
    "    loss1, acc1=student_valid(best_student_encoder, best_student_classifier, source1_valid_dataloader)\n",
    "    loss2, acc2=student_valid(best_student_encoder, best_student_classifier, source2_valid_dataloader)\n",
    "    loss3, acc3=student_valid(best_student_encoder, best_student_classifier, target_valid_dataloader)\n",
    "    print(\"source1 loss:\",loss1,\"source1 accuracy: \",acc1)\n",
    "    print(\"source2 loss:\",loss2,\"source2 accuracy: \",acc2)\n",
    "    print(\"target loss:\",loss3,\"target accuracy: \",acc3)\n",
    "    print(\"cmd value: \",cmdval,\"weight1: \",weight1,\"weight2: \",weight2)\n",
    "    loss1_list.append(loss1)\n",
    "    loss2_list.append(loss2)\n",
    "    loss3_list.append(loss3)\n",
    "    acc1_list.append(acc1)\n",
    "    acc2_list.append(acc2)\n",
    "    acc3_list.append(acc3)\n",
    "    weights1.append(weight1)\n",
    "    weights2.append(weight2)\n",
    "    cmdvals.append(cmdval)\n",
    "    \n",
    "    \n",
    "    if cmdval < min_val_score:\n",
    "        torch.save(best_student_encoder.state_dict(),open(\"../../weights/best_student_encoder.pth\",\"wb\"))\n",
    "        torch.save(best_student_classifier.state_dict(),open(\"../../weights/best_student_classifier.pth\",\"wb\"))\n",
    "        torch.save(best_student_discriminator1.state_dict(),open(\"../../weights/best_student_discriminator1.pth\",\"wb\"))\n",
    "        torch.save(best_student_discriminator2.state_dict(),open(\"../../weights/best_student_discriminator2.pth\",\"wb\"))\n",
    "        max_val_score = cmdval\n",
    "        "
   ]
  },
  {
   "cell_type": "code",
   "execution_count": null,
   "id": "4dad6b22",
   "metadata": {},
   "outputs": [],
   "source": [
    "#test set\n",
    "source1_loss, source1_test=student_valid(best_student_encoder,best_student_classifier,source1_test_dataloader)\n",
    "source2_loss, source2_test=student_valid(best_student_encoder,best_student_classifier,source2_test_dataloader)\n",
    "target_loss, target_test=student_valid(best_student_encoder,best_student_classifier,target_test_dataloader)\n",
    "print(\"-----------Test--------------\")\n",
    "print(\"source1 loss:\",source1_loss,\"source1 accuracy: \",source1_test)\n",
    "print(\"source2 loss:\",source2_loss,\"source2 accuracy: \",source2_test)\n",
    "print(\"target loss:\",target_loss,\"target accuracy: \",target_test)\n"
   ]
  },
  {
   "cell_type": "code",
   "execution_count": null,
   "id": "b6559d9a",
   "metadata": {},
   "outputs": [],
   "source": []
  },
  {
   "cell_type": "code",
   "execution_count": null,
   "id": "91f17333",
   "metadata": {},
   "outputs": [],
   "source": []
  },
  {
   "cell_type": "code",
   "execution_count": null,
   "id": "53f73642",
   "metadata": {},
   "outputs": [],
   "source": []
  },
  {
   "cell_type": "code",
   "execution_count": null,
   "id": "1d389e34",
   "metadata": {},
   "outputs": [],
   "source": [
    "from utils.util import confusionmatrix,tsneplotafter"
   ]
  },
  {
   "cell_type": "code",
   "execution_count": null,
   "id": "2fd2a65d-3195-4008-84aa-904f741a3119",
   "metadata": {},
   "outputs": [
    {
     "data": {
      "image/png": "[encoded data removed]",
      "text/plain": [
       "<Figure size 1000x700 with 2 Axes>"
      ]
     },
     "metadata": {},
     "output_type": "display_data"
    },
    {
     "data": {
      "image/png": "[encoded data removed]",
      "text/plain": [
       "<Figure size 1000x700 with 2 Axes>"
      ]
     },
     "metadata": {},
     "output_type": "display_data"
    }
   ],
   "source": [
    "predict=[]\n",
    "for i in range(len(pred_labels)):\n",
    "    predict.append(pred_labels[i][0].detach().cpu())\n",
    "predict\n",
    "predd=[]\n",
    "for i in range(len(predict)):\n",
    "    predd.append(torch.argmax(predict[i]))\n",
    "confusionmatrix(predd, true_labels)\n"
   ]
  },
  {
   "cell_type": "code",
   "execution_count": null,
   "id": "1b620e8e-0b2a-47f7-b761-528cacdf16e8",
   "metadata": {},
   "outputs": [],
   "source": []
  },
  {
   "cell_type": "code",
   "execution_count": null,
   "id": "e2f9fe90-a74b-4150-8b09-8c4dc234f889",
   "metadata": {},
   "outputs": [],
   "source": []
  },
  {
   "cell_type": "code",
   "execution_count": null,
   "id": "ff7626ce-8676-4541-a90e-b998cdd3c2d4",
   "metadata": {},
   "outputs": [],
   "source": []
  },
  {
   "cell_type": "code",
   "execution_count": null,
   "id": "d4163652-6e24-495b-8923-7d448b372610",
   "metadata": {},
   "outputs": [],
   "source": [
    "def tsneplotafter(loader1):\n",
    "    TSNEmodel = TSNE(learning_rate=100)\n",
    "\n",
    "    xsource=[]\n",
    "    ysource=[]\n",
    "    # xtarget=[]\n",
    "    # ytarget=[]\n",
    "\n",
    "        \n",
    "        \n",
    "    for batch_idx, batch_data2 in enumerate(loader1):\n",
    "            X_t,X_t2, X_s,X_s2, tlabel = batch_data2\n",
    "            X_s = Variable(X_s.to(device))\n",
    "            X_s2 = Variable(X_s2.to(device))\n",
    "            s_r,s_f,s_feature = best_senc(X_s,X_s2)\n",
    "            pred, s_log, s_features  = best_scls(s_feature)\n",
    "        \n",
    "\n",
    "            xsource.append(np.array(pred.detach().cpu()))\n",
    "            ysource.append(tlabel.item())\n",
    "    # for batch_idx, batch_data2 in enumerate(loader2):\n",
    "    #         tinput, tlabel = batch_data2\n",
    "    #         tinput = Variable(tinput.to(device))\n",
    "    #         tinput = feature_extractor(tinput)\n",
    "    #         xtarget.append(np.array(tinput.detach().cpu()))\n",
    "    #         ytarget.append(tlabel.item())\n",
    "\n",
    "    xsource=np.array(xsource)\n",
    "    ysource=np.array(ysource)\n",
    "    # xtarget=np.array(xtarget)\n",
    "    # ytarget=np.array(ytarget)\n",
    "\n",
    "#     for i in range(len(ytarget)):\n",
    "#         if ytarget[i]==0:\n",
    "#             ytarget[i]=5\n",
    "#         elif ytarget[i]==1:\n",
    "#             ytarget[i]=6\n",
    "#         elif ytarget[i]==2:\n",
    "#             ytarget[i]=7\n",
    "#         elif ytarget[i]==3:\n",
    "#             ytarget[i]=8\n",
    "#         else:\n",
    "#             ytarget[i]=9 \n",
    "            \n",
    "    xsource=xsource.reshape(ysource.size,-1)\n",
    "    # xtarget=xtarget.reshape(ytarget.size,-1)\n",
    "    ysource=ysource.reshape(-1,1)\n",
    "    # ytarget=ytarget.reshape(-1,1)\n",
    "    \n",
    "    source=np.hstack([xsource,ysource])\n",
    "    # target=np.hstack([xtarget,ytarget])\n",
    "    # tsne=np.vstack([source,target])\n",
    "    tsne2=source[source[:,-1].argsort()]\n",
    "\n",
    "    source_normal=np.where(tsne2[:,-1] == 0)[0][0]\n",
    "    source_sis1=np.where(tsne2[:,-1] == 1)[0][0]\n",
    "    source_sis2=np.where(tsne2[:,-1] == 2)[0][0]\n",
    "    source_sis3=np.where(tsne2[:,-1] == 3)[0][0]\n",
    "    source_sis4=np.where(tsne2[:,-1] == 4)[0][0]\n",
    "    \n",
    "    # target_normal=np.where(tsne2[:,-1] == 5)[0][0]\n",
    "    # target_sis1=np.where(tsne2[:,-1] == 6)[0][0]\n",
    "    # target_sis2=np.where(tsne2[:,-1] == 7)[0][0]\n",
    "    # target_sis3=np.where(tsne2[:,-1] == 8)[0][0]\n",
    "    # target_sis4=np.where(tsne2[:,-1] == 9)[0][0]\n",
    "    tsne_X = TSNEmodel.fit_transform(tsne2[:,:-1],tsne2[:,-1])\n",
    "\n",
    "    plt.figure(figsize=(10,10))\n",
    "    \n",
    "    plt.scatter(tsne_X[:source_sis1,0],tsne_X[:source_sis1,1],c='red',marker='o', label = 'source normal')\n",
    "    plt.scatter(tsne_X[source_sis1:source_sis2,0],tsne_X[source_sis1:source_sis2,1],c='blue',marker='o', label = 'source sis1')\n",
    "    plt.scatter(tsne_X[source_sis2:source_sis3,0],tsne_X[source_sis2:source_sis3,1],c='yellow',marker='o', label = 'source sis2')\n",
    "    plt.scatter(tsne_X[source_sis3:source_sis4,0],tsne_X[source_sis3:source_sis4,1],c='black',marker='o', label = 'source sis3')\n",
    "    plt.scatter(tsne_X[source_sis4:,0],tsne_X[source_sis4:,1],c='purple',marker='o' ,label = 'source sis4')\n",
    "    \n",
    "#     plt.scatter(tsne_X[target_normal:target_sis1,0],tsne_X[target_normal:target_sis1,1],c='red',marker='s', label = 'target normal')\n",
    "#     plt.scatter(tsne_X[target_sis1:target_sis2,0],tsne_X[target_sis1:target_sis2,1],c='blue',marker='s', label = 'target sis1')\n",
    "#     plt.scatter(tsne_X[target_sis2:target_sis3,0],tsne_X[target_sis2:target_sis3,1],c='yellow',marker='s', label = 'target sis2')\n",
    "#     plt.scatter(tsne_X[target_sis3:target_sis4,0],tsne_X[target_sis3:target_sis4,1],c='black',marker='s', label = 'target sis3')\n",
    "#     plt.scatter(tsne_X[target_sis4:,0],tsne_X[target_sis4:,1],c='purple',marker='s', label = 'target sis4')\n",
    "\n",
    "    plt.suptitle('tsne after')\n",
    "    # plt.legend()\n",
    "\n",
    "    plt.show()"
   ]
  },
  {
   "cell_type": "code",
   "execution_count": null,
   "id": "a4257561-4dad-46d6-926a-1afc9c56e311",
   "metadata": {},
   "outputs": [
    {
     "data": {
      "image/png": "[encoded data removed]",
      "text/plain": [
       "<Figure size 1000x1000 with 1 Axes>"
      ]
     },
     "metadata": {},
     "output_type": "display_data"
    }
   ],
   "source": [
    "tsneplotafter(test_distill_dataloader)"
   ]
  },
  {
   "cell_type": "code",
   "execution_count": null,
   "id": "ba791412-c0f9-42b2-94df-0a18722329da",
   "metadata": {},
   "outputs": [
    {
     "data": {
      "image/png": "[encoded data removed]",
      "text/plain": [
       "<Figure size 1000x1000 with 1 Axes>"
      ]
     },
     "metadata": {},
     "output_type": "display_data"
    }
   ],
   "source": [
    "tsneplotafter(test_distill_dataloader)"
   ]
  },
  {
   "cell_type": "code",
   "execution_count": null,
   "id": "bcabd5ef-e665-4156-9f69-d06816ee90ed",
   "metadata": {},
   "outputs": [],
   "source": []
  },
  {
   "cell_type": "code",
   "execution_count": null,
   "id": "0600d200-8ce0-44d6-b8e5-19204f771afe",
   "metadata": {},
   "outputs": [],
   "source": []
  },
  {
   "cell_type": "code",
   "execution_count": null,
   "id": "33bb8595-01ae-41dc-8df6-d67f152b756c",
   "metadata": {},
   "outputs": [],
   "source": []
  }
 ],
 "metadata": {
  "kernelspec": {
   "display_name": "Python 3 (ipykernel)",
   "language": "python",
   "name": "python3"
  },
  "language_info": {
   "codemirror_mode": {
    "name": "ipython",
    "version": 3
   },
   "file_extension": ".py",
   "mimetype": "text/x-python",
   "name": "python",
   "nbconvert_exporter": "python",
   "pygments_lexer": "ipython3",
   "version": "3.9.13"
  }
 },
 "nbformat": 4,
 "nbformat_minor": 5
}
