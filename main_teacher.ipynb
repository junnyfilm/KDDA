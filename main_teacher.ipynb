{
 "cells": [
  {
   "cell_type": "markdown",
   "id": "261aef7b-9c3e-44bf-a280-fcaebcf65d00",
   "metadata": {},
   "source": [
    "## Import"
   ]
  },
  {
   "cell_type": "code",
   "execution_count": 1,
   "id": "1f24f1de-cf86-4508-8448-ff82c09c3b6b",
   "metadata": {},
   "outputs": [
    {
     "name": "stderr",
     "output_type": "stream",
     "text": [
      "c:\\Users\\SHRM_DL\\.conda\\envs\\jun\\lib\\site-packages\\numpy\\_distributor_init.py:30: UserWarning: loaded more than 1 DLL from .libs:\n",
      "c:\\Users\\SHRM_DL\\.conda\\envs\\jun\\lib\\site-packages\\numpy\\.libs\\libopenblas.EL2C6PLE4ZYW3ECEVIV3OXXGRN2NRFM2.gfortran-win_amd64.dll\n",
      "c:\\Users\\SHRM_DL\\.conda\\envs\\jun\\lib\\site-packages\\numpy\\.libs\\libopenblas.GK7GX5KEQ4F6UYO3P26ULGBQYHGQO7J4.gfortran-win_amd64.dll\n",
      "  warnings.warn(\"loaded more than 1 DLL from .libs:\"\n",
      "<frozen importlib._bootstrap>:228: RuntimeWarning: scipy._lib.messagestream.MessageStream size changed, may indicate binary incompatibility. Expected 56 from C header, got 64 from PyObject\n"
     ]
    }
   ],
   "source": [
    "# import sys\n",
    "# sys.path.append(r'C:\\Users\\hyeJunoh\\Desktop\\인턴폴더\\연구')\n",
    "\n",
    "import torch\n",
    "import torch.nn as nn\n",
    "import torch.nn.functional as F\n",
    "import torch.optim as optim\n",
    "from torch.utils.data import DataLoader, Dataset\n",
    "from torch.autograd import Variable\n",
    "\n",
    "import torchvision\n",
    "import torchvision.transforms as transforms\n",
    "from torchvision import models, datasets\n",
    "\n",
    "from sklearn.metrics import f1_score, confusion_matrix\n",
    "from sklearn.preprocessing import StandardScaler, LabelEncoder, OneHotEncoder\n",
    "from sklearn.model_selection import train_test_split\n",
    "from sklearn.manifold import TSNE\n",
    "\n",
    "import os\n",
    "import pandas as pd\n",
    "import numpy as np\n",
    "from tqdm.auto import tqdm\n",
    "import random\n",
    "import h5py\n",
    "import glob\n",
    "from pathlib import Path\n",
    "import pickle\n",
    "import argparse\n",
    "import time\n",
    "\n",
    "\n",
    "import seaborn as sn\n",
    "import matplotlib.pyplot as plt\n",
    "%matplotlib inline\n",
    "\n",
    "import warnings\n",
    "warnings.filterwarnings(action='ignore')\n",
    "\n",
    "device = torch.device(\"cuda:0\" if torch.cuda.is_available() else \"cpu\")\n"
   ]
  },
  {
   "cell_type": "code",
   "execution_count": 2,
   "id": "b622b2f2",
   "metadata": {},
   "outputs": [],
   "source": [
    "from fft import FFT\n",
    "from loader import dataloader\n",
    "from train_teacher import teacher_train\n",
    "from test_teacher import testing_teacher\n",
    "from model.teacher_model import teacher_encoder, teacher_classifier\n",
    "from model.attention import SpatialAttention, MultiviewCrossAttention\n",
    "from model.cnn import BasicBlock,GlobalAvgPool1D\n"
   ]
  },
  {
   "cell_type": "code",
   "execution_count": 3,
   "id": "542d6fc4-197c-48cf-8ae7-a36ebd0fbba2",
   "metadata": {},
   "outputs": [],
   "source": [
    "CFG = {\n",
    "    'EPOCHS': 80,\n",
    "    'LEARNING_RATE':1e-2,\n",
    "    'BATCH_SIZE':256,\n",
    "    'SEED':41\n",
    "}\n",
    "\n",
    "def seed_everything(seed):\n",
    "    random.seed(seed)\n",
    "    os.environ['PYTHONHASHSEED'] = str(seed)\n",
    "    np.random.seed(seed)\n",
    "    torch.manual_seed(seed)\n",
    "    torch.cuda.manual_seed(seed)\n",
    "    torch.backends.cudnn.deterministic = True\n",
    "    torch.backends.cudnn.benchmark = True\n",
    "\n",
    "seed_everything(CFG['SEED'])"
   ]
  },
  {
   "cell_type": "markdown",
   "id": "78f7de4c-1758-4d8a-8c9c-b2e42f9b88a9",
   "metadata": {},
   "source": [
    "## Data Load"
   ]
  },
  {
   "cell_type": "code",
   "execution_count": 4,
   "id": "489ad739-e504-4cff-a296-06b08b1426ca",
   "metadata": {},
   "outputs": [],
   "source": [
    "source1_train_dataloader,source1_valid_dataloader,source1_test_dataloader,source2_train_dataloader,source2_valid_dataloader,source2_test_dataloader,target_train_dataloader,target_valid_dataloader,target_test_dataloaders=dataloader()"
   ]
  },
  {
   "cell_type": "markdown",
   "id": "a397ee58",
   "metadata": {},
   "source": [
    "# Teacher model"
   ]
  },
  {
   "cell_type": "code",
   "execution_count": 6,
   "id": "b577d7e1",
   "metadata": {},
   "outputs": [],
   "source": [
    "def teacher_enc(pretrained=False, **kwargs):\n",
    "    model = teacher_encoder(BasicBlock, [2, 2, 2, 2], **kwargs)\n",
    "    return model## Run (Teacher Model)\n",
    "def teacher_clas(pretrained=False, **kwargs):\n",
    "    model = teacher_classifier(BasicBlock, [2, 2, 2, 2], **kwargs)\n",
    "    return model## Run (Teacher Model)\n",
    "teacher_encoder = teacher_enc().to(device)\n",
    "teacher_classifier = teacher_clas().to(device)\n",
    "Spectral_Attention_cur = SpatialAttention(in_channels=32, reduction_ratio=16, version='cur').to(device)\n",
    "Spectral_Attention_vib = SpatialAttention(in_channels=32, reduction_ratio=16, version='vib').to(device)\n",
    "MultiviewCrossAttention = CrossAttention(input_size=4096, version='default').to(device)\n",
    "temporal_attention_c = SpatialAttention(in_channels=32, reduction_ratio=16, version='cur_2').to(device)\n",
    "temporal_attention_v = SpatialAttention(in_channels=32, reduction_ratio=16, version='vib_2').to(device)"
   ]
  },
  {
   "cell_type": "code",
   "execution_count": 7,
   "id": "f1b5c4e7",
   "metadata": {},
   "outputs": [],
   "source": [
    "optimizer = torch.optim.Adam([\n",
    "                        {'params': teacher_encoder.parameters()},\n",
    "                        {'params': Spectral_Attention_cur.parameters()},\n",
    "                        {'params': Spectral_Attention_vib.parameters()},\n",
    "                        {'params': MultiviewCrossAttention.parameters()},\n",
    "                        {'params': temporal_attention_c.parameters()},\n",
    "                        {'params': temporal_attention_v.parameters()},\n",
    "                        {'params': teacher_classifier.parameters()},\n",
    "                        ], lr= 0.0001)\n",
    "\n",
    "scheduler = torch.optim.lr_scheduler.ReduceLROnPlateau(optimizer, mode='max', factor=0.5, patience=15, threshold_mode='abs',min_lr=1e-8, verbose=True)"
   ]
  },
  {
   "cell_type": "code",
   "execution_count": 8,
   "id": "26942968",
   "metadata": {},
   "outputs": [
    {
     "name": "stdout",
     "output_type": "stream",
     "text": [
      "epoch:  0\n",
      "source 1 train\n"
     ]
    },
    {
     "name": "stderr",
     "output_type": "stream",
     "text": [
      "100%|██████████| 62/62 [00:13<00:00,  4.52it/s]\n",
      "100%|██████████| 1394/1394 [00:09<00:00, 140.84it/s]\n"
     ]
    },
    {
     "name": "stdout",
     "output_type": "stream",
     "text": [
      "Epoch [0], Train Loss : [0.14672] Val Loss : [1.25505] Val ACC Score : [50.07174]\n",
      "source 2 train\n"
     ]
    },
    {
     "name": "stderr",
     "output_type": "stream",
     "text": [
      "100%|██████████| 62/62 [00:10<00:00,  6.18it/s]\n",
      "100%|██████████| 1394/1394 [00:09<00:00, 140.24it/s]\n"
     ]
    },
    {
     "name": "stdout",
     "output_type": "stream",
     "text": [
      "Epoch [0], Train Loss : [0.12311] Val Loss : [0.84279] Val ACC Score : [80.05739]\n",
      "epoch:  1\n",
      "source 1 train\n"
     ]
    },
    {
     "name": "stderr",
     "output_type": "stream",
     "text": [
      "100%|██████████| 62/62 [00:10<00:00,  6.17it/s]\n",
      "100%|██████████| 1394/1394 [00:09<00:00, 139.42it/s]\n"
     ]
    },
    {
     "name": "stdout",
     "output_type": "stream",
     "text": [
      "Epoch [1], Train Loss : [0.10174] Val Loss : [0.53607] Val ACC Score : [94.90674]\n",
      "source 2 train\n"
     ]
    },
    {
     "name": "stderr",
     "output_type": "stream",
     "text": [
      "100%|██████████| 62/62 [00:09<00:00,  6.22it/s]\n",
      "100%|██████████| 1394/1394 [00:09<00:00, 140.13it/s]\n"
     ]
    },
    {
     "name": "stdout",
     "output_type": "stream",
     "text": [
      "Epoch [1], Train Loss : [0.08304] Val Loss : [0.44604] Val ACC Score : [97.13056]\n",
      "epoch:  2\n",
      "source 1 train\n"
     ]
    },
    {
     "name": "stderr",
     "output_type": "stream",
     "text": [
      "100%|██████████| 62/62 [00:10<00:00,  5.95it/s]\n",
      "100%|██████████| 1394/1394 [00:09<00:00, 141.87it/s]\n"
     ]
    },
    {
     "name": "stdout",
     "output_type": "stream",
     "text": [
      "Epoch [2], Train Loss : [0.07700] Val Loss : [0.41131] Val ACC Score : [99.71306]\n",
      "source 2 train\n"
     ]
    },
    {
     "name": "stderr",
     "output_type": "stream",
     "text": [
      "100%|██████████| 62/62 [00:10<00:00,  6.12it/s]\n",
      "100%|██████████| 1394/1394 [00:09<00:00, 140.64it/s]\n"
     ]
    },
    {
     "name": "stdout",
     "output_type": "stream",
     "text": [
      "Epoch [2], Train Loss : [0.06673] Val Loss : [0.40373] Val ACC Score : [100.00000]\n",
      "epoch:  3\n",
      "source 1 train\n"
     ]
    },
    {
     "name": "stderr",
     "output_type": "stream",
     "text": [
      "100%|██████████| 62/62 [00:10<00:00,  6.02it/s]\n",
      "100%|██████████| 1394/1394 [00:10<00:00, 138.05it/s]\n"
     ]
    },
    {
     "name": "stdout",
     "output_type": "stream",
     "text": [
      "Epoch [3], Train Loss : [0.06461] Val Loss : [0.42207] Val ACC Score : [99.85653]\n",
      "source 2 train\n"
     ]
    },
    {
     "name": "stderr",
     "output_type": "stream",
     "text": [
      "100%|██████████| 62/62 [00:10<00:00,  6.03it/s]\n",
      "100%|██████████| 1394/1394 [00:10<00:00, 136.51it/s]\n"
     ]
    },
    {
     "name": "stdout",
     "output_type": "stream",
     "text": [
      "Epoch [3], Train Loss : [0.06202] Val Loss : [0.42176] Val ACC Score : [99.71306]\n",
      "epoch:  4\n",
      "source 1 train\n"
     ]
    },
    {
     "name": "stderr",
     "output_type": "stream",
     "text": [
      "100%|██████████| 62/62 [00:10<00:00,  5.93it/s]\n",
      "100%|██████████| 1394/1394 [00:10<00:00, 137.28it/s]\n"
     ]
    },
    {
     "name": "stdout",
     "output_type": "stream",
     "text": [
      "Epoch [4], Train Loss : [0.06214] Val Loss : [0.40297] Val ACC Score : [99.85653]\n",
      "source 2 train\n"
     ]
    },
    {
     "name": "stderr",
     "output_type": "stream",
     "text": [
      "100%|██████████| 62/62 [00:10<00:00,  6.03it/s]\n",
      "100%|██████████| 1394/1394 [00:10<00:00, 136.74it/s]\n"
     ]
    },
    {
     "name": "stdout",
     "output_type": "stream",
     "text": [
      "Epoch [4], Train Loss : [0.05808] Val Loss : [0.39250] Val ACC Score : [100.00000]\n",
      "epoch:  5\n",
      "source 1 train\n"
     ]
    },
    {
     "name": "stderr",
     "output_type": "stream",
     "text": [
      "100%|██████████| 62/62 [00:10<00:00,  6.01it/s]\n",
      "100%|██████████| 1394/1394 [00:10<00:00, 137.27it/s]\n"
     ]
    },
    {
     "name": "stdout",
     "output_type": "stream",
     "text": [
      "Epoch [5], Train Loss : [0.05735] Val Loss : [0.40966] Val ACC Score : [99.92826]\n",
      "source 2 train\n"
     ]
    },
    {
     "name": "stderr",
     "output_type": "stream",
     "text": [
      "100%|██████████| 62/62 [00:10<00:00,  6.01it/s]\n",
      "100%|██████████| 1394/1394 [00:10<00:00, 138.31it/s]\n"
     ]
    },
    {
     "name": "stdout",
     "output_type": "stream",
     "text": [
      "Epoch [5], Train Loss : [0.05491] Val Loss : [0.38487] Val ACC Score : [99.92826]\n",
      "epoch:  6\n",
      "source 1 train\n"
     ]
    },
    {
     "name": "stderr",
     "output_type": "stream",
     "text": [
      "100%|██████████| 62/62 [00:10<00:00,  5.84it/s]\n",
      "100%|██████████| 1394/1394 [00:10<00:00, 133.88it/s]\n"
     ]
    },
    {
     "name": "stdout",
     "output_type": "stream",
     "text": [
      "Epoch [6], Train Loss : [0.05720] Val Loss : [0.39771] Val ACC Score : [99.92826]\n",
      "source 2 train\n"
     ]
    },
    {
     "name": "stderr",
     "output_type": "stream",
     "text": [
      "100%|██████████| 62/62 [00:10<00:00,  5.95it/s]\n",
      "100%|██████████| 1394/1394 [00:10<00:00, 135.50it/s]\n"
     ]
    },
    {
     "name": "stdout",
     "output_type": "stream",
     "text": [
      "Epoch [6], Train Loss : [0.05449] Val Loss : [0.39307] Val ACC Score : [100.00000]\n",
      "epoch:  7\n",
      "source 1 train\n"
     ]
    },
    {
     "name": "stderr",
     "output_type": "stream",
     "text": [
      "100%|██████████| 62/62 [00:10<00:00,  5.78it/s]\n",
      "100%|██████████| 1394/1394 [00:10<00:00, 137.26it/s]\n"
     ]
    },
    {
     "name": "stdout",
     "output_type": "stream",
     "text": [
      "Epoch [7], Train Loss : [0.05205] Val Loss : [0.36414] Val ACC Score : [99.71306]\n",
      "source 2 train\n"
     ]
    },
    {
     "name": "stderr",
     "output_type": "stream",
     "text": [
      "100%|██████████| 62/62 [00:10<00:00,  5.96it/s]\n",
      "100%|██████████| 1394/1394 [00:10<00:00, 138.42it/s]\n"
     ]
    },
    {
     "name": "stdout",
     "output_type": "stream",
     "text": [
      "Epoch [7], Train Loss : [0.04970] Val Loss : [0.38090] Val ACC Score : [99.92826]\n",
      "epoch:  8\n",
      "source 1 train\n"
     ]
    },
    {
     "name": "stderr",
     "output_type": "stream",
     "text": [
      "100%|██████████| 62/62 [00:10<00:00,  6.06it/s]\n",
      "100%|██████████| 1394/1394 [00:10<00:00, 139.30it/s]\n"
     ]
    },
    {
     "name": "stdout",
     "output_type": "stream",
     "text": [
      "Epoch [8], Train Loss : [0.05152] Val Loss : [0.38212] Val ACC Score : [98.78049]\n",
      "source 2 train\n"
     ]
    },
    {
     "name": "stderr",
     "output_type": "stream",
     "text": [
      "100%|██████████| 62/62 [00:10<00:00,  6.05it/s]\n",
      "100%|██████████| 1394/1394 [00:10<00:00, 138.54it/s]\n"
     ]
    },
    {
     "name": "stdout",
     "output_type": "stream",
     "text": [
      "Epoch [8], Train Loss : [0.05019] Val Loss : [0.36640] Val ACC Score : [100.00000]\n",
      "epoch:  9\n",
      "source 1 train\n"
     ]
    },
    {
     "name": "stderr",
     "output_type": "stream",
     "text": [
      "100%|██████████| 62/62 [00:10<00:00,  5.82it/s]\n",
      "100%|██████████| 1394/1394 [00:10<00:00, 138.98it/s]\n"
     ]
    },
    {
     "name": "stdout",
     "output_type": "stream",
     "text": [
      "Epoch [9], Train Loss : [0.04860] Val Loss : [0.35918] Val ACC Score : [99.85653]\n",
      "source 2 train\n"
     ]
    },
    {
     "name": "stderr",
     "output_type": "stream",
     "text": [
      "100%|██████████| 62/62 [00:10<00:00,  5.85it/s]\n",
      "100%|██████████| 1394/1394 [00:09<00:00, 139.57it/s]\n"
     ]
    },
    {
     "name": "stdout",
     "output_type": "stream",
     "text": [
      "Epoch [9], Train Loss : [0.04155] Val Loss : [0.35755] Val ACC Score : [100.00000]\n",
      "epoch:  10\n",
      "source 1 train\n"
     ]
    },
    {
     "name": "stderr",
     "output_type": "stream",
     "text": [
      "100%|██████████| 62/62 [00:10<00:00,  6.03it/s]\n",
      "100%|██████████| 1394/1394 [00:10<00:00, 137.99it/s]\n"
     ]
    },
    {
     "name": "stdout",
     "output_type": "stream",
     "text": [
      "Epoch [10], Train Loss : [0.11685] Val Loss : [0.38058] Val ACC Score : [97.63271]\n",
      "source 2 train\n"
     ]
    },
    {
     "name": "stderr",
     "output_type": "stream",
     "text": [
      "100%|██████████| 62/62 [00:10<00:00,  5.98it/s]\n",
      "100%|██████████| 1394/1394 [00:10<00:00, 130.71it/s]\n"
     ]
    },
    {
     "name": "stdout",
     "output_type": "stream",
     "text": [
      "Epoch [10], Train Loss : [0.19983] Val Loss : [0.40494] Val ACC Score : [98.49354]\n",
      "epoch:  11\n",
      "source 1 train\n"
     ]
    },
    {
     "name": "stderr",
     "output_type": "stream",
     "text": [
      "100%|██████████| 62/62 [00:09<00:00,  6.23it/s]\n",
      "100%|██████████| 1394/1394 [00:09<00:00, 141.03it/s]\n"
     ]
    },
    {
     "name": "stdout",
     "output_type": "stream",
     "text": [
      "Epoch [11], Train Loss : [0.25374] Val Loss : [0.98317] Val ACC Score : [68.93831]\n",
      "source 2 train\n"
     ]
    },
    {
     "name": "stderr",
     "output_type": "stream",
     "text": [
      "100%|██████████| 62/62 [00:09<00:00,  6.21it/s]\n",
      "100%|██████████| 1394/1394 [00:09<00:00, 142.79it/s]\n"
     ]
    },
    {
     "name": "stdout",
     "output_type": "stream",
     "text": [
      "Epoch [11], Train Loss : [0.21397] Val Loss : [0.30216] Val ACC Score : [100.00000]\n",
      "epoch:  12\n",
      "source 1 train\n"
     ]
    },
    {
     "name": "stderr",
     "output_type": "stream",
     "text": [
      "100%|██████████| 62/62 [00:10<00:00,  6.07it/s]\n",
      "100%|██████████| 1394/1394 [00:10<00:00, 139.24it/s]\n"
     ]
    },
    {
     "name": "stdout",
     "output_type": "stream",
     "text": [
      "Epoch [12], Train Loss : [0.26146] Val Loss : [0.56400] Val ACC Score : [86.37016]\n",
      "source 2 train\n"
     ]
    },
    {
     "name": "stderr",
     "output_type": "stream",
     "text": [
      "100%|██████████| 62/62 [00:10<00:00,  6.01it/s]\n",
      "100%|██████████| 1394/1394 [00:10<00:00, 138.65it/s]\n"
     ]
    },
    {
     "name": "stdout",
     "output_type": "stream",
     "text": [
      "Epoch [12], Train Loss : [0.21156] Val Loss : [0.31900] Val ACC Score : [99.85653]\n",
      "epoch:  13\n",
      "source 1 train\n"
     ]
    },
    {
     "name": "stderr",
     "output_type": "stream",
     "text": [
      "100%|██████████| 62/62 [00:10<00:00,  5.86it/s]\n",
      "100%|██████████| 1394/1394 [00:10<00:00, 137.76it/s]\n"
     ]
    },
    {
     "name": "stdout",
     "output_type": "stream",
     "text": [
      "Epoch [13], Train Loss : [0.24506] Val Loss : [0.38878] Val ACC Score : [95.12195]\n",
      "source 2 train\n"
     ]
    },
    {
     "name": "stderr",
     "output_type": "stream",
     "text": [
      "100%|██████████| 62/62 [00:10<00:00,  5.94it/s]\n",
      "100%|██████████| 1394/1394 [00:10<00:00, 137.67it/s]\n"
     ]
    },
    {
     "name": "stdout",
     "output_type": "stream",
     "text": [
      "Epoch [13], Train Loss : [0.20735] Val Loss : [0.27956] Val ACC Score : [99.78479]\n",
      "epoch:  14\n",
      "source 1 train\n"
     ]
    },
    {
     "name": "stderr",
     "output_type": "stream",
     "text": [
      "100%|██████████| 62/62 [00:10<00:00,  5.99it/s]\n",
      "100%|██████████| 1394/1394 [00:10<00:00, 138.74it/s]\n"
     ]
    },
    {
     "name": "stdout",
     "output_type": "stream",
     "text": [
      "Epoch [14], Train Loss : [0.22226] Val Loss : [0.28693] Val ACC Score : [99.64132]\n",
      "source 2 train\n"
     ]
    },
    {
     "name": "stderr",
     "output_type": "stream",
     "text": [
      "100%|██████████| 62/62 [00:10<00:00,  5.97it/s]\n",
      "100%|██████████| 1394/1394 [00:10<00:00, 137.83it/s]\n"
     ]
    },
    {
     "name": "stdout",
     "output_type": "stream",
     "text": [
      "Epoch [14], Train Loss : [0.18871] Val Loss : [0.28373] Val ACC Score : [99.92826]\n",
      "epoch:  15\n",
      "source 1 train\n"
     ]
    },
    {
     "name": "stderr",
     "output_type": "stream",
     "text": [
      "100%|██████████| 62/62 [00:10<00:00,  6.00it/s]\n",
      "100%|██████████| 1394/1394 [00:09<00:00, 139.82it/s]\n"
     ]
    },
    {
     "name": "stdout",
     "output_type": "stream",
     "text": [
      "Epoch [15], Train Loss : [0.19748] Val Loss : [0.41338] Val ACC Score : [94.04591]\n",
      "source 2 train\n"
     ]
    },
    {
     "name": "stderr",
     "output_type": "stream",
     "text": [
      "100%|██████████| 62/62 [00:10<00:00,  6.10it/s]\n",
      "100%|██████████| 1394/1394 [00:09<00:00, 139.92it/s]\n"
     ]
    },
    {
     "name": "stdout",
     "output_type": "stream",
     "text": [
      "Epoch [15], Train Loss : [0.18295] Val Loss : [0.27005] Val ACC Score : [99.78479]\n",
      "epoch:  16\n",
      "source 1 train\n"
     ]
    },
    {
     "name": "stderr",
     "output_type": "stream",
     "text": [
      "100%|██████████| 62/62 [00:10<00:00,  6.00it/s]\n",
      "100%|██████████| 1394/1394 [00:09<00:00, 139.40it/s]\n"
     ]
    },
    {
     "name": "stdout",
     "output_type": "stream",
     "text": [
      "Epoch [16], Train Loss : [0.19343] Val Loss : [0.27614] Val ACC Score : [99.21090]\n",
      "source 2 train\n"
     ]
    },
    {
     "name": "stderr",
     "output_type": "stream",
     "text": [
      "100%|██████████| 62/62 [00:10<00:00,  6.12it/s]\n",
      "100%|██████████| 1394/1394 [00:09<00:00, 140.59it/s]\n"
     ]
    },
    {
     "name": "stdout",
     "output_type": "stream",
     "text": [
      "Epoch [16], Train Loss : [0.16428] Val Loss : [0.33798] Val ACC Score : [97.48924]\n",
      "epoch:  17\n",
      "source 1 train\n"
     ]
    },
    {
     "name": "stderr",
     "output_type": "stream",
     "text": [
      "100%|██████████| 62/62 [00:10<00:00,  5.99it/s]\n",
      "100%|██████████| 1394/1394 [00:10<00:00, 138.57it/s]\n"
     ]
    },
    {
     "name": "stdout",
     "output_type": "stream",
     "text": [
      "Epoch [17], Train Loss : [0.17594] Val Loss : [0.27982] Val ACC Score : [98.56528]\n",
      "source 2 train\n"
     ]
    },
    {
     "name": "stderr",
     "output_type": "stream",
     "text": [
      "100%|██████████| 62/62 [00:10<00:00,  5.96it/s]\n",
      "100%|██████████| 1394/1394 [00:10<00:00, 138.46it/s]\n"
     ]
    },
    {
     "name": "stdout",
     "output_type": "stream",
     "text": [
      "Epoch [17], Train Loss : [0.18010] Val Loss : [0.25504] Val ACC Score : [99.92826]\n",
      "epoch:  18\n",
      "source 1 train\n"
     ]
    },
    {
     "name": "stderr",
     "output_type": "stream",
     "text": [
      "100%|██████████| 62/62 [00:10<00:00,  5.99it/s]\n",
      "100%|██████████| 1394/1394 [00:10<00:00, 133.53it/s]\n"
     ]
    },
    {
     "name": "stdout",
     "output_type": "stream",
     "text": [
      "Epoch [18], Train Loss : [0.19175] Val Loss : [0.30490] Val ACC Score : [97.84792]\n",
      "source 2 train\n"
     ]
    },
    {
     "name": "stderr",
     "output_type": "stream",
     "text": [
      "100%|██████████| 62/62 [00:09<00:00,  6.21it/s]\n",
      "100%|██████████| 1394/1394 [00:10<00:00, 137.04it/s]\n"
     ]
    },
    {
     "name": "stdout",
     "output_type": "stream",
     "text": [
      "Epoch [18], Train Loss : [0.16119] Val Loss : [0.27174] Val ACC Score : [100.00000]\n",
      "epoch:  19\n",
      "source 1 train\n"
     ]
    },
    {
     "name": "stderr",
     "output_type": "stream",
     "text": [
      "100%|██████████| 62/62 [00:09<00:00,  6.23it/s]\n",
      "100%|██████████| 1394/1394 [00:09<00:00, 141.33it/s]\n"
     ]
    },
    {
     "name": "stdout",
     "output_type": "stream",
     "text": [
      "Epoch [19], Train Loss : [0.17495] Val Loss : [0.24055] Val ACC Score : [100.00000]\n",
      "source 2 train\n"
     ]
    },
    {
     "name": "stderr",
     "output_type": "stream",
     "text": [
      "100%|██████████| 62/62 [00:10<00:00,  6.07it/s]\n",
      "100%|██████████| 1394/1394 [00:09<00:00, 140.74it/s]\n"
     ]
    },
    {
     "name": "stdout",
     "output_type": "stream",
     "text": [
      "Epoch [19], Train Loss : [0.16201] Val Loss : [0.25667] Val ACC Score : [99.56958]\n",
      "epoch:  20\n",
      "source 1 train\n"
     ]
    },
    {
     "name": "stderr",
     "output_type": "stream",
     "text": [
      "100%|██████████| 62/62 [00:09<00:00,  6.22it/s]\n",
      "100%|██████████| 1394/1394 [00:10<00:00, 138.03it/s]\n"
     ]
    },
    {
     "name": "stdout",
     "output_type": "stream",
     "text": [
      "Epoch [20], Train Loss : [0.16556] Val Loss : [0.25162] Val ACC Score : [99.06743]\n",
      "source 2 train\n"
     ]
    },
    {
     "name": "stderr",
     "output_type": "stream",
     "text": [
      "100%|██████████| 62/62 [00:09<00:00,  6.25it/s]\n",
      "100%|██████████| 1394/1394 [00:10<00:00, 138.00it/s]\n"
     ]
    },
    {
     "name": "stdout",
     "output_type": "stream",
     "text": [
      "Epoch [20], Train Loss : [0.14769] Val Loss : [0.23023] Val ACC Score : [100.00000]\n",
      "epoch:  21\n",
      "source 1 train\n"
     ]
    },
    {
     "name": "stderr",
     "output_type": "stream",
     "text": [
      "100%|██████████| 62/62 [00:09<00:00,  6.24it/s]\n",
      "100%|██████████| 1394/1394 [00:09<00:00, 141.74it/s]\n"
     ]
    },
    {
     "name": "stdout",
     "output_type": "stream",
     "text": [
      "Epoch [21], Train Loss : [0.15008] Val Loss : [0.26030] Val ACC Score : [98.42181]\n",
      "source 2 train\n"
     ]
    },
    {
     "name": "stderr",
     "output_type": "stream",
     "text": [
      "100%|██████████| 62/62 [00:09<00:00,  6.37it/s]\n",
      "100%|██████████| 1394/1394 [00:09<00:00, 141.53it/s]\n"
     ]
    },
    {
     "name": "stdout",
     "output_type": "stream",
     "text": [
      "Epoch [21], Train Loss : [0.14605] Val Loss : [0.23735] Val ACC Score : [99.78479]\n",
      "epoch:  22\n",
      "source 1 train\n"
     ]
    },
    {
     "name": "stderr",
     "output_type": "stream",
     "text": [
      "100%|██████████| 62/62 [00:09<00:00,  6.28it/s]\n",
      "100%|██████████| 1394/1394 [00:13<00:00, 106.96it/s]\n"
     ]
    },
    {
     "name": "stdout",
     "output_type": "stream",
     "text": [
      "Epoch [22], Train Loss : [0.16509] Val Loss : [0.26107] Val ACC Score : [98.56528]\n",
      "source 2 train\n"
     ]
    },
    {
     "name": "stderr",
     "output_type": "stream",
     "text": [
      "100%|██████████| 62/62 [01:03<00:00,  1.02s/it]\n",
      "100%|██████████| 1394/1394 [01:05<00:00, 21.13it/s] \n"
     ]
    },
    {
     "name": "stdout",
     "output_type": "stream",
     "text": [
      "Epoch [22], Train Loss : [0.14833] Val Loss : [0.23435] Val ACC Score : [99.85653]\n",
      "Epoch 00023: reducing learning rate of group 0 to 5.0000e-05.\n",
      "Epoch 00023: reducing learning rate of group 1 to 5.0000e-05.\n",
      "Epoch 00023: reducing learning rate of group 2 to 5.0000e-05.\n",
      "Epoch 00023: reducing learning rate of group 3 to 5.0000e-05.\n",
      "Epoch 00023: reducing learning rate of group 4 to 5.0000e-05.\n",
      "Epoch 00023: reducing learning rate of group 5 to 5.0000e-05.\n",
      "Epoch 00023: reducing learning rate of group 6 to 5.0000e-05.\n",
      "epoch:  23\n",
      "source 1 train\n"
     ]
    },
    {
     "name": "stderr",
     "output_type": "stream",
     "text": [
      "100%|██████████| 62/62 [00:10<00:00,  6.10it/s]\n",
      "100%|██████████| 1394/1394 [00:10<00:00, 138.97it/s]\n"
     ]
    },
    {
     "name": "stdout",
     "output_type": "stream",
     "text": [
      "Epoch [23], Train Loss : [0.15085] Val Loss : [0.24799] Val ACC Score : [99.13917]\n",
      "source 2 train\n"
     ]
    },
    {
     "name": "stderr",
     "output_type": "stream",
     "text": [
      "100%|██████████| 62/62 [00:10<00:00,  6.09it/s]\n",
      "100%|██████████| 1394/1394 [00:10<00:00, 139.33it/s]\n"
     ]
    },
    {
     "name": "stdout",
     "output_type": "stream",
     "text": [
      "Epoch [23], Train Loss : [0.14121] Val Loss : [0.22014] Val ACC Score : [100.00000]\n",
      "epoch:  24\n",
      "source 1 train\n"
     ]
    },
    {
     "name": "stderr",
     "output_type": "stream",
     "text": [
      "100%|██████████| 62/62 [00:10<00:00,  6.13it/s]\n",
      "  3%|▎         | 45/1394 [00:00<00:09, 139.54it/s]"
     ]
    }
   ],
   "source": [
    "best_teacher_encoder,best_temporal_attention_cur,best_temporal_attention_vib,best_spectral_attention_cur,best_spectral_attention_vib,best_multiview_CrossAttention,best_teacher_classifier=teacher_train(teacher_encoder,temporal_attention_c,temporal_attention_v,Spectral_Attention_cur,Spectral_Attention_vib,MultiviewCrossAttention,teacher_classifier, optimizer, source1_train_dataloader,source2_train_dataloader, source1_valid_dataloader,source2_valid_dataloader, scheduler, device,epochs=30)"
   ]
  },
  {
   "cell_type": "code",
   "execution_count": null,
   "id": "c15cdab7-9404-4df7-8bb9-9ede5c9a6e19",
   "metadata": {},
   "outputs": [],
   "source": [
    "torch.save(best_teacher_encoder.state_dict(),open(\"../weights/best_teacher_encoder.pth\",\"wb\"))\n",
    "torch.save(best_temporal_attention_cur.state_dict(),open(\"../weights/best_temporal_attention_cur.pth\",\"wb\"))\n",
    "torch.save(best_temporal_attention_vib.state_dict(),open(\"../weights/best_temporal_attention_vib.pth\",\"wb\"))\n",
    "torch.save(best_spectral_attention_cur.state_dict(),open(\"../weights/best_spectral_attention_cur.pth\",\"wb\"))\n",
    "torch.save(best_spectral_attention_vib.state_dict(),open(\"../weights/best_spectral_attention_vib.pth\",\"wb\"))\n",
    "torch.save(best_multiview_CrossAttention.state_dict(),open(\"../weights/best_multiview_CrossAttention.pth\",\"wb\"))\n",
    "torch.save(best_teacher_classifier.state_dict(),open(\"../weights/best_teacher_classifier.pth\",\"wb\"))"
   ]
  },
  {
   "cell_type": "code",
   "execution_count": null,
   "id": "fc0d2588",
   "metadata": {},
   "outputs": [
    {
     "name": "stderr",
     "output_type": "stream",
     "text": [
      "100%|██████████| 100/100 [00:00<00:00, 141.72it/s]\n"
     ]
    },
    {
     "name": "stdout",
     "output_type": "stream",
     "text": [
      "test teacher loss:  1.609 test teacher accuracy:  23.0\n"
     ]
    },
    {
     "name": "stderr",
     "output_type": "stream",
     "text": [
      "100%|██████████| 100/100 [00:00<00:00, 141.22it/s]"
     ]
    },
    {
     "name": "stdout",
     "output_type": "stream",
     "text": [
      "test teacher loss:  1.611 test teacher accuracy:  13.0\n"
     ]
    },
    {
     "name": "stderr",
     "output_type": "stream",
     "text": [
      "\n"
     ]
    }
   ],
   "source": [
    "teacher_test_loss, teacher_test_acc=testing_teacher(best_teacher_encoder,best_temporal_attention_cur,best_temporal_attention_vib,best_spectral_attention_cur,best_spectral_attention_vib,best_multiview_CrossAttention,best_teacher_classifier,source1_test_dataloader)\n",
    "print(\"test teacher loss: \",round(sum(teacher_test_loss)/len(teacher_test_loss),3), \"test teacher accuracy: \", teacher_test_acc)\n",
    "\n",
    "teacher_test_loss, teacher_test_acc=testing_teacher(best_teacher_encoder,best_temporal_attention_cur,best_temporal_attention_vib,best_spectral_attention_cur,best_spectral_attention_vib,best_multiview_CrossAttention,best_teacher_classifier,source2_test_dataloader)\n",
    "print(\"test teacher loss: \",round(sum(teacher_test_loss)/len(teacher_test_loss),3), \"test teacher accuracy: \", teacher_test_acc)"
   ]
  },
  {
   "cell_type": "code",
   "execution_count": null,
   "id": "e79a3c22",
   "metadata": {},
   "outputs": [],
   "source": []
  }
 ],
 "metadata": {
  "kernelspec": {
   "display_name": "Python 3 (ipykernel)",
   "language": "python",
   "name": "python3"
  },
  "language_info": {
   "codemirror_mode": {
    "name": "ipython",
    "version": 3
   },
   "file_extension": ".py",
   "mimetype": "text/x-python",
   "name": "python",
   "nbconvert_exporter": "python",
   "pygments_lexer": "ipython3",
   "version": "3.9.13"
  }
 },
 "nbformat": 4,
 "nbformat_minor": 5
}
